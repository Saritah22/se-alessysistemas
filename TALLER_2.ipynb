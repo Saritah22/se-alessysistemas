{
  "nbformat": 4,
  "nbformat_minor": 0,
  "metadata": {
    "colab": {
      "provenance": [],
      "authorship_tag": "ABX9TyP6+opL5HJDXvW1GoBVtBHU",
      "include_colab_link": true
    },
    "kernelspec": {
      "name": "python3",
      "display_name": "Python 3"
    },
    "language_info": {
      "name": "python"
    }
  },
  "cells": [
    {
      "cell_type": "markdown",
      "metadata": {
        "id": "view-in-github",
        "colab_type": "text"
      },
      "source": [
        "<a href=\"https://colab.research.google.com/github/Saritah22/se-alessysistemas/blob/main/TALLER_2.ipynb\" target=\"_parent\"><img src=\"https://colab.research.google.com/assets/colab-badge.svg\" alt=\"Open In Colab\"/></a>"
      ]
    },
    {
      "cell_type": "code",
      "execution_count": null,
      "metadata": {
        "id": "2o7xgcgwAlw8"
      },
      "outputs": [],
      "source": []
    },
    {
      "cell_type": "markdown",
      "source": [
        "TALLER"
      ],
      "metadata": {
        "id": "WbNGHle4Aws-"
      }
    },
    {
      "cell_type": "markdown",
      "source": [
        "2.1 Explique las semejanzas y diferencias entre la serie de Fourier (exponencial, trigonometrica y compacta) y la transformada de Fourier, transformada de Fourier en tiempo discreto (DTFT) y transformada discreta de Fourier (DFT). Considere las diferentes combinaciones entre: espectro continuo y\n",
        "discreto y senal en tiempo continuo y discreto. Ademas, consulte en que consiste el algoritmo Fast Fourier Transform -\n",
        "(FFT) y su utilidad para el calculo de la transformada discreta de Fourier. Explique en detalle el algoritmo FFT y su\n",
        "costo computacional vs el de la transformada discreta. Ver\n",
        "cuaderno Serie y transformada de Fourier."
      ],
      "metadata": {
        "id": "dBNp0as2A4I-"
      }
    },
    {
      "cell_type": "markdown",
      "source": [
        "Por facilidad de cálculo, la serie exponencial de Fourier se puede extender a sus versiones trigonométrica y compacta.\n",
        "La exponencial tiene una representación mas compacta ya que usa exponenciales complejas facilitando asi el manejo algebraico\n",
        "La trigonometrica se representa en términos de senos y cosenos\n",
        "La compacta simplifica la interpretación mediante amplitudes y fases\n",
        "\n",
        "Semejanzas  \n",
        "Todas buscan expresar una señal periodica x(t), todas son validas para señales periodicas frecuencias, las funciones base corresponden a frecuancias armonicas.\n",
        " [condiciones de Dirichlet](https://en.wikipedia.org/wiki/Dirichlet_conditions#:~:text=In%20mathematics%2C%20the%20Dirichlet%20conditions,point%20where%20f%20is%20continuous.):\n",
        "\n",
        "Diferencias\n",
        "\n",
        "- Serie Trigonometrica es mas intuitiva y facil de entender visualmente\n",
        "idela para aplicaciones donde la simetria de la señal (par o impar) es importante.\n",
        "\n",
        "- Serie exponencial es mas compacta y se usa frecuentemente en analisis teorico y de sistemas facilita calculos en el dominio de la frecuencia.\n",
        "\n",
        "- Serie Compacta combina amplitud y fase en un solo termino. Es util donde interesa la amplitud y el desfase de las frecuencias\n",
        "\n",
        "Ahora, las semejanzas y diferencias entrea las tres transformadas (DTFT)(DFT)\n",
        "\n",
        "Semejanzas\n",
        "\n",
        "Estas transformadas permiten permiten identificar las frecuencias presentes en la señal, aunque lo hacen de forma distinta(continua o discreta), ambas proporcionan una representación espectral de la señal, mostrando cómo se distribuyen sus componentes de frecuencia, son versiones adaptadas de la Transformada de Fourier para señales discretas, tanto la DTFT como la DFT descomponen la señal en sumas de exponenciales complejas (o senos y cosenos) de diferentes frecuencias, ambas transformadas son lineales, lo que significa que satisfacen las propiedades de superposición, la DFT se puede interpretar como una muestreo de la DTFT en un número finito de puntos igualmente espaciados en el dominio de la frecuencia.\n",
        "\n",
        "Diferencias\n",
        "\n",
        "- (DTFT)el dominio de la frecuencia es continuo, produce un espectro continuo y peridicoy en (DFT) el dominio de la frecuencia es discreto(muestreo finito), Produce un espectro discreto (con N puntos)\n",
        "\n",
        "\n"
      ],
      "metadata": {
        "id": "QIliPkhZCLue"
      }
    }
  ]
}